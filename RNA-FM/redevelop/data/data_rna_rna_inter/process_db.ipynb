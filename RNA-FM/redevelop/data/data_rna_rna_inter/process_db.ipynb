{
 "cells": [
  {
   "cell_type": "code",
   "execution_count": 1,
   "id": "5cf7ce3a-479a-4f78-9169-761ac14fc080",
   "metadata": {},
   "outputs": [],
   "source": [
    "import pickle\n",
    "\n",
    "# Load the pickle file\n",
    "def load_pkl(file_path):\n",
    "    with open(file_path, \"rb\") as f:\n",
    "        data = pickle.load(f)\n",
    "    # Display basic information\n",
    "    print(\"Data type:\", type(data))\n",
    "    print(\"Sample data:\", data[:2] if isinstance(data, list) else data)\n",
    "    return data\n",
    "\n",
    "def save_unique_list(sequences, fasta_file_name):\n",
    "    with open(fasta_file_name, \"w\") as fasta_file:\n",
    "        count = 0\n",
    "        for idx, sequence in enumerate(sequences):\n",
    "            if len(sequence) > 1022:\n",
    "                count += 1\n",
    "                continue\n",
    "            fasta_file.write(f\">seq_{idx}\\n{sequence}\\n\")\n",
    "        print('count: ', count)\n",
    "    \n",
    "    print(f\"FASTA file saved as {fasta_file_name}\")\n",
    "    \n"
   ]
  },
  {
   "cell_type": "code",
   "execution_count": 4,
   "id": "2c56e2f1-a290-43ad-bc05-6aa4204f050e",
   "metadata": {},
   "outputs": [
    {
     "name": "stdout",
     "output_type": "stream",
     "text": [
      "Data type: <class 'list'>\n",
      "Sample data: ['AGUGAGUUUGGGUUUCAUAGUUGUAAGUGAUCCACUUGGCGACAACUGUUUUUUAUAACGGUACUAACAUC', 'CCACAAUGAUGGCAAUAUUUUUCGUCAACAGCAGUUCACCUAGUGAGUGUUGAGACUCUGGGUCUGAGUGA']\n",
      "count:  0\n",
      "FASTA file saved as mirna-snorna_test_fasta.fasta\n"
     ]
    }
   ],
   "source": [
    "#file_path_unique_test = 'unprocessed_db/elements_uniqueclassification_aug_types_test.pkl'\n",
    "file_path_unique_test = 'unprocessed_db/elements_uniqueclassification_mirna-snorna_aug_types_test.pkl'\n",
    "test_unique_sequences = load_pkl(file_path_unique_test) # list of sequences\n",
    "\n",
    "# Save fasta of unique sequences in cwd, name: test_fasta, ids are numbers of the indices of the list (>id_number newline, sequence)\n",
    "# Save FASTA file\n",
    "fasta_file = \"mirna-snorna_test_fasta.fasta\"\n",
    "save_unique_list(test_unique_sequences, fasta_file)\n",
    "\n",
    "\n",
    "# out-of notebook: extract embeddings, then continue in the other notebook\n",
    "\n"
   ]
  },
  {
   "cell_type": "code",
   "execution_count": 5,
   "id": "68f47b00-97cc-454a-bf0f-d1f2158e7be0",
   "metadata": {},
   "outputs": [
    {
     "data": {
      "text/plain": [
       "546"
      ]
     },
     "execution_count": 5,
     "metadata": {},
     "output_type": "execute_result"
    }
   ],
   "source": [
    "len(test_unique_sequences)"
   ]
  },
  {
   "cell_type": "code",
   "execution_count": 10,
   "id": "94dee925-59d7-47bf-a3c1-225151d2e8fd",
   "metadata": {},
   "outputs": [
    {
     "name": "stdout",
     "output_type": "stream",
     "text": [
      "Data type: <class 'list'>\n",
      "Sample data: ['AGGCAGUGUAUUGUUAGCUGGC', 'UCAGUGCAUGACAGAACUUGG']\n",
      "count:  0\n",
      "FASTA file saved as mirna-snorna_train_fasta.fasta\n"
     ]
    }
   ],
   "source": [
    "# file_path_unique_train = 'unprocessed_db/elements_uniqueclassification_aug_types_training.pkl'\n",
    "file_path_unique_train = 'unprocessed_db/elements_uniqueclassification_mirna-snorna_aug_types_training.pkl'\n",
    "train_unique_sequences = load_pkl(file_path_unique_train) # list of sequences\n",
    "\n",
    "# Save fasta of unique sequences in cwd, name: test_fasta, ids are numbers of the indices of the list (>id_number newline, sequence)\n",
    "# Save FASTA file\n",
    "fasta_file = \"mirna-snorna_train_fasta.fasta\"\n",
    "save_unique_list(train_unique_sequences, fasta_file)\n",
    "\n",
    "\n",
    "# out-of notebook: extract embeddings, then continue in the other notebook\n",
    "\n"
   ]
  },
  {
   "cell_type": "code",
   "execution_count": 11,
   "id": "c7e4f0f2-0e1b-406c-8c36-01dffe882edc",
   "metadata": {},
   "outputs": [
    {
     "data": {
      "text/plain": [
       "1676"
      ]
     },
     "execution_count": 11,
     "metadata": {},
     "output_type": "execute_result"
    }
   ],
   "source": [
    "len(train_unique_sequences)"
   ]
  },
  {
   "cell_type": "code",
   "execution_count": null,
   "id": "076e321a-ff99-4f63-8cb9-1dd6ddaffd45",
   "metadata": {},
   "outputs": [],
   "source": []
  }
 ],
 "metadata": {
  "kernelspec": {
   "display_name": "Python 3 (ipykernel)",
   "language": "python",
   "name": "python3"
  },
  "language_info": {
   "codemirror_mode": {
    "name": "ipython",
    "version": 3
   },
   "file_extension": ".py",
   "mimetype": "text/x-python",
   "name": "python",
   "nbconvert_exporter": "python",
   "pygments_lexer": "ipython3",
   "version": "3.11.4"
  }
 },
 "nbformat": 4,
 "nbformat_minor": 5
}
